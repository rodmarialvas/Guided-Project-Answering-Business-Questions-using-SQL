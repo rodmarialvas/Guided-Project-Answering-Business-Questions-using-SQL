{
 "cells": [
  {
   "cell_type": "markdown",
   "metadata": {},
   "source": [
    "# Connecting to the database"
   ]
  },
  {
   "cell_type": "code",
   "execution_count": 1,
   "metadata": {
    "collapsed": false
   },
   "outputs": [
    {
     "data": {
      "text/plain": [
       "'Connected: None@chinook.db'"
      ]
     },
     "execution_count": 1,
     "metadata": {},
     "output_type": "execute_result"
    }
   ],
   "source": [
    "%%capture\n",
    "%load_ext sql\n",
    "%sql sqlite:///chinook.db"
   ]
  },
  {
   "cell_type": "markdown",
   "metadata": {},
   "source": [
    "# Data overview"
   ]
  },
  {
   "cell_type": "code",
   "execution_count": 14,
   "metadata": {
    "collapsed": false,
    "scrolled": true
   },
   "outputs": [
    {
     "name": "stdout",
     "output_type": "stream",
     "text": [
      "Done.\n"
     ]
    },
    {
     "data": {
      "text/html": [
       "<table>\n",
       "    <tr>\n",
       "        <th>name</th>\n",
       "        <th>type</th>\n",
       "    </tr>\n",
       "    <tr>\n",
       "        <td>album</td>\n",
       "        <td>table</td>\n",
       "    </tr>\n",
       "    <tr>\n",
       "        <td>artist</td>\n",
       "        <td>table</td>\n",
       "    </tr>\n",
       "    <tr>\n",
       "        <td>customer</td>\n",
       "        <td>table</td>\n",
       "    </tr>\n",
       "    <tr>\n",
       "        <td>employee</td>\n",
       "        <td>table</td>\n",
       "    </tr>\n",
       "    <tr>\n",
       "        <td>genre</td>\n",
       "        <td>table</td>\n",
       "    </tr>\n",
       "    <tr>\n",
       "        <td>invoice</td>\n",
       "        <td>table</td>\n",
       "    </tr>\n",
       "    <tr>\n",
       "        <td>invoice_line</td>\n",
       "        <td>table</td>\n",
       "    </tr>\n",
       "    <tr>\n",
       "        <td>media_type</td>\n",
       "        <td>table</td>\n",
       "    </tr>\n",
       "    <tr>\n",
       "        <td>playlist</td>\n",
       "        <td>table</td>\n",
       "    </tr>\n",
       "    <tr>\n",
       "        <td>playlist_track</td>\n",
       "        <td>table</td>\n",
       "    </tr>\n",
       "    <tr>\n",
       "        <td>track</td>\n",
       "        <td>table</td>\n",
       "    </tr>\n",
       "    <tr>\n",
       "        <td>top_5_names</td>\n",
       "        <td>view</td>\n",
       "    </tr>\n",
       "</table>"
      ],
      "text/plain": [
       "[('album', 'table'),\n",
       " ('artist', 'table'),\n",
       " ('customer', 'table'),\n",
       " ('employee', 'table'),\n",
       " ('genre', 'table'),\n",
       " ('invoice', 'table'),\n",
       " ('invoice_line', 'table'),\n",
       " ('media_type', 'table'),\n",
       " ('playlist', 'table'),\n",
       " ('playlist_track', 'table'),\n",
       " ('track', 'table'),\n",
       " ('top_5_names', 'view')]"
      ]
     },
     "execution_count": 14,
     "metadata": {},
     "output_type": "execute_result"
    }
   ],
   "source": [
    "%%sql\n",
    "SELECT\n",
    "    name,\n",
    "    type\n",
    "FROM sqlite_master\n",
    "WHERE type IN (\"table\",\"view\");"
   ]
  },
  {
   "cell_type": "code",
   "execution_count": null,
   "metadata": {
    "collapsed": true
   },
   "outputs": [],
   "source": []
  },
  {
   "cell_type": "markdown",
   "metadata": {},
   "source": [
    "The Chinook record store has just signed a deal with a new record label, and you need to select the first three albums to add to the store, from a list of four. All four albums are by artists who don't have any tracks in the store right now — we have the artists' names and the genre of music they produce:"
   ]
  },
  {
   "cell_type": "markdown",
   "metadata": {},
   "source": [
    "Artist Name / Genre\n",
    "\n",
    "Regal / Hip-Hop\n",
    "\n",
    "Red Tone / Punk\n",
    "\n",
    "Meteor and the Girls / Pop\n",
    "\n",
    "Slim Jim Bites / Blues"
   ]
  },
  {
   "cell_type": "code",
   "execution_count": null,
   "metadata": {
    "collapsed": true
   },
   "outputs": [],
   "source": []
  },
  {
   "cell_type": "markdown",
   "metadata": {},
   "source": [
    "Write a query that returns each genre with the number of tracks sold in the USA:\n",
    "- in absolute numbers\n",
    "- in percentages\n",
    "\n",
    "Write a paragraph that interprets the data and makes a recommendation for the three artists whose albums we should purchase for the store, based on sales of tracks from their genres."
   ]
  },
  {
   "cell_type": "code",
   "execution_count": 18,
   "metadata": {
    "collapsed": true
   },
   "outputs": [],
   "source": [
    "#We need to JOIN all the information we need from the various tables."
   ]
  },
  {
   "cell_type": "code",
   "execution_count": 7,
   "metadata": {
    "collapsed": false,
    "scrolled": true
   },
   "outputs": [
    {
     "name": "stdout",
     "output_type": "stream",
     "text": [
      "Done.\n"
     ]
    },
    {
     "data": {
      "text/html": [
       "<table>\n",
       "    <tr>\n",
       "        <th>invoice_line_id</th>\n",
       "        <th>invoice_id</th>\n",
       "        <th>track_id</th>\n",
       "        <th>unit_price</th>\n",
       "        <th>quantity</th>\n",
       "        <th>track_id_1</th>\n",
       "        <th>name</th>\n",
       "        <th>album_id</th>\n",
       "        <th>media_type_id</th>\n",
       "        <th>genre_id</th>\n",
       "        <th>composer</th>\n",
       "        <th>milliseconds</th>\n",
       "        <th>bytes</th>\n",
       "        <th>unit_price_1</th>\n",
       "        <th>genre_id_1</th>\n",
       "        <th>name_1</th>\n",
       "    </tr>\n",
       "    <tr>\n",
       "        <td>1</td>\n",
       "        <td>1</td>\n",
       "        <td>1158</td>\n",
       "        <td>0.99</td>\n",
       "        <td>1</td>\n",
       "        <td>1158</td>\n",
       "        <td>Right Next Door to Hell</td>\n",
       "        <td>91</td>\n",
       "        <td>2</td>\n",
       "        <td>1</td>\n",
       "        <td>None</td>\n",
       "        <td>182321</td>\n",
       "        <td>3175950</td>\n",
       "        <td>0.99</td>\n",
       "        <td>1</td>\n",
       "        <td>Rock</td>\n",
       "    </tr>\n",
       "    <tr>\n",
       "        <td>2</td>\n",
       "        <td>1</td>\n",
       "        <td>1159</td>\n",
       "        <td>0.99</td>\n",
       "        <td>1</td>\n",
       "        <td>1159</td>\n",
       "        <td>Dust N&#x27; Bones</td>\n",
       "        <td>91</td>\n",
       "        <td>2</td>\n",
       "        <td>1</td>\n",
       "        <td>None</td>\n",
       "        <td>298374</td>\n",
       "        <td>5053742</td>\n",
       "        <td>0.99</td>\n",
       "        <td>1</td>\n",
       "        <td>Rock</td>\n",
       "    </tr>\n",
       "    <tr>\n",
       "        <td>3</td>\n",
       "        <td>1</td>\n",
       "        <td>1160</td>\n",
       "        <td>0.99</td>\n",
       "        <td>1</td>\n",
       "        <td>1160</td>\n",
       "        <td>Live and Let Die</td>\n",
       "        <td>91</td>\n",
       "        <td>2</td>\n",
       "        <td>1</td>\n",
       "        <td>None</td>\n",
       "        <td>184016</td>\n",
       "        <td>3203390</td>\n",
       "        <td>0.99</td>\n",
       "        <td>1</td>\n",
       "        <td>Rock</td>\n",
       "    </tr>\n",
       "    <tr>\n",
       "        <td>4</td>\n",
       "        <td>1</td>\n",
       "        <td>1161</td>\n",
       "        <td>0.99</td>\n",
       "        <td>1</td>\n",
       "        <td>1161</td>\n",
       "        <td>Don&#x27;t Cry (Original)</td>\n",
       "        <td>91</td>\n",
       "        <td>2</td>\n",
       "        <td>1</td>\n",
       "        <td>None</td>\n",
       "        <td>284744</td>\n",
       "        <td>4833259</td>\n",
       "        <td>0.99</td>\n",
       "        <td>1</td>\n",
       "        <td>Rock</td>\n",
       "    </tr>\n",
       "    <tr>\n",
       "        <td>5</td>\n",
       "        <td>1</td>\n",
       "        <td>1162</td>\n",
       "        <td>0.99</td>\n",
       "        <td>1</td>\n",
       "        <td>1162</td>\n",
       "        <td>Perfect Crime</td>\n",
       "        <td>91</td>\n",
       "        <td>2</td>\n",
       "        <td>1</td>\n",
       "        <td>None</td>\n",
       "        <td>143637</td>\n",
       "        <td>2550030</td>\n",
       "        <td>0.99</td>\n",
       "        <td>1</td>\n",
       "        <td>Rock</td>\n",
       "    </tr>\n",
       "    <tr>\n",
       "        <td>6</td>\n",
       "        <td>1</td>\n",
       "        <td>1163</td>\n",
       "        <td>0.99</td>\n",
       "        <td>1</td>\n",
       "        <td>1163</td>\n",
       "        <td>You Ain&#x27;t the First</td>\n",
       "        <td>91</td>\n",
       "        <td>2</td>\n",
       "        <td>1</td>\n",
       "        <td>None</td>\n",
       "        <td>156268</td>\n",
       "        <td>2754414</td>\n",
       "        <td>0.99</td>\n",
       "        <td>1</td>\n",
       "        <td>Rock</td>\n",
       "    </tr>\n",
       "    <tr>\n",
       "        <td>7</td>\n",
       "        <td>1</td>\n",
       "        <td>1164</td>\n",
       "        <td>0.99</td>\n",
       "        <td>1</td>\n",
       "        <td>1164</td>\n",
       "        <td>Bad Obsession</td>\n",
       "        <td>91</td>\n",
       "        <td>2</td>\n",
       "        <td>1</td>\n",
       "        <td>None</td>\n",
       "        <td>328282</td>\n",
       "        <td>5537678</td>\n",
       "        <td>0.99</td>\n",
       "        <td>1</td>\n",
       "        <td>Rock</td>\n",
       "    </tr>\n",
       "    <tr>\n",
       "        <td>8</td>\n",
       "        <td>1</td>\n",
       "        <td>1165</td>\n",
       "        <td>0.99</td>\n",
       "        <td>1</td>\n",
       "        <td>1165</td>\n",
       "        <td>Back off Bitch</td>\n",
       "        <td>91</td>\n",
       "        <td>2</td>\n",
       "        <td>1</td>\n",
       "        <td>None</td>\n",
       "        <td>303436</td>\n",
       "        <td>5135662</td>\n",
       "        <td>0.99</td>\n",
       "        <td>1</td>\n",
       "        <td>Rock</td>\n",
       "    </tr>\n",
       "    <tr>\n",
       "        <td>9</td>\n",
       "        <td>1</td>\n",
       "        <td>1166</td>\n",
       "        <td>0.99</td>\n",
       "        <td>1</td>\n",
       "        <td>1166</td>\n",
       "        <td>Double Talkin&#x27; Jive</td>\n",
       "        <td>91</td>\n",
       "        <td>2</td>\n",
       "        <td>1</td>\n",
       "        <td>None</td>\n",
       "        <td>203637</td>\n",
       "        <td>3520862</td>\n",
       "        <td>0.99</td>\n",
       "        <td>1</td>\n",
       "        <td>Rock</td>\n",
       "    </tr>\n",
       "    <tr>\n",
       "        <td>10</td>\n",
       "        <td>1</td>\n",
       "        <td>1167</td>\n",
       "        <td>0.99</td>\n",
       "        <td>1</td>\n",
       "        <td>1167</td>\n",
       "        <td>November Rain</td>\n",
       "        <td>91</td>\n",
       "        <td>2</td>\n",
       "        <td>1</td>\n",
       "        <td>None</td>\n",
       "        <td>537540</td>\n",
       "        <td>8923566</td>\n",
       "        <td>0.99</td>\n",
       "        <td>1</td>\n",
       "        <td>Rock</td>\n",
       "    </tr>\n",
       "</table>"
      ],
      "text/plain": [
       "[(1, 1, 1158, 0.99, 1, 1158, 'Right Next Door to Hell', 91, 2, 1, None, 182321, 3175950, 0.99, 1, 'Rock'),\n",
       " (2, 1, 1159, 0.99, 1, 1159, \"Dust N' Bones\", 91, 2, 1, None, 298374, 5053742, 0.99, 1, 'Rock'),\n",
       " (3, 1, 1160, 0.99, 1, 1160, 'Live and Let Die', 91, 2, 1, None, 184016, 3203390, 0.99, 1, 'Rock'),\n",
       " (4, 1, 1161, 0.99, 1, 1161, \"Don't Cry (Original)\", 91, 2, 1, None, 284744, 4833259, 0.99, 1, 'Rock'),\n",
       " (5, 1, 1162, 0.99, 1, 1162, 'Perfect Crime', 91, 2, 1, None, 143637, 2550030, 0.99, 1, 'Rock'),\n",
       " (6, 1, 1163, 0.99, 1, 1163, \"You Ain't the First\", 91, 2, 1, None, 156268, 2754414, 0.99, 1, 'Rock'),\n",
       " (7, 1, 1164, 0.99, 1, 1164, 'Bad Obsession', 91, 2, 1, None, 328282, 5537678, 0.99, 1, 'Rock'),\n",
       " (8, 1, 1165, 0.99, 1, 1165, 'Back off Bitch', 91, 2, 1, None, 303436, 5135662, 0.99, 1, 'Rock'),\n",
       " (9, 1, 1166, 0.99, 1, 1166, \"Double Talkin' Jive\", 91, 2, 1, None, 203637, 3520862, 0.99, 1, 'Rock'),\n",
       " (10, 1, 1167, 0.99, 1, 1167, 'November Rain', 91, 2, 1, None, 537540, 8923566, 0.99, 1, 'Rock')]"
      ]
     },
     "execution_count": 7,
     "metadata": {},
     "output_type": "execute_result"
    }
   ],
   "source": [
    "%%sql\n",
    "\n",
    "WITH usa_sales AS\n",
    "    (\n",
    "    SELECT il.* FROM invoice_line il\n",
    "    INNER JOIN invoice i ON il.invoice_id = i.invoice_id\n",
    "    INNER JOIN customer c ON i.customer_id = c.customer_id\n",
    "    WHERE c.country = \"USA\"\n",
    "    )\n",
    "SELECT *\n",
    "FROM usa_sales us\n",
    "INNER JOIN track t on t.track_id = us.track_id\n",
    "INNER JOIN genre g on g.genre_id = t.genre_id\n",
    "LIMIT 10;"
   ]
  },
  {
   "cell_type": "code",
   "execution_count": 3,
   "metadata": {
    "collapsed": true
   },
   "outputs": [],
   "source": [
    "#We can make the entire query in only one step (as shown below) but is always important to\n",
    "#have a look at the data and understand well how the different tables look like, hence why\n",
    "#the previous step. "
   ]
  },
  {
   "cell_type": "code",
   "execution_count": null,
   "metadata": {
    "collapsed": true
   },
   "outputs": [],
   "source": []
  },
  {
   "cell_type": "code",
   "execution_count": 13,
   "metadata": {
    "collapsed": false
   },
   "outputs": [
    {
     "name": "stdout",
     "output_type": "stream",
     "text": [
      "Done.\n"
     ]
    },
    {
     "data": {
      "text/html": [
       "<table>\n",
       "    <tr>\n",
       "        <th>genre</th>\n",
       "        <th>tracks_sold</th>\n",
       "        <th>percentage_sold</th>\n",
       "    </tr>\n",
       "    <tr>\n",
       "        <td>Rock</td>\n",
       "        <td>561</td>\n",
       "        <td>0.5337773549000951</td>\n",
       "    </tr>\n",
       "    <tr>\n",
       "        <td>Alternative &amp; Punk</td>\n",
       "        <td>130</td>\n",
       "        <td>0.12369172216936251</td>\n",
       "    </tr>\n",
       "    <tr>\n",
       "        <td>Metal</td>\n",
       "        <td>124</td>\n",
       "        <td>0.11798287345385347</td>\n",
       "    </tr>\n",
       "    <tr>\n",
       "        <td>R&amp;B/Soul</td>\n",
       "        <td>53</td>\n",
       "        <td>0.05042816365366318</td>\n",
       "    </tr>\n",
       "    <tr>\n",
       "        <td>Blues</td>\n",
       "        <td>36</td>\n",
       "        <td>0.03425309229305423</td>\n",
       "    </tr>\n",
       "    <tr>\n",
       "        <td>Alternative</td>\n",
       "        <td>35</td>\n",
       "        <td>0.03330161750713606</td>\n",
       "    </tr>\n",
       "    <tr>\n",
       "        <td>Latin</td>\n",
       "        <td>22</td>\n",
       "        <td>0.02093244529019981</td>\n",
       "    </tr>\n",
       "    <tr>\n",
       "        <td>Pop</td>\n",
       "        <td>22</td>\n",
       "        <td>0.02093244529019981</td>\n",
       "    </tr>\n",
       "    <tr>\n",
       "        <td>Hip Hop/Rap</td>\n",
       "        <td>20</td>\n",
       "        <td>0.019029495718363463</td>\n",
       "    </tr>\n",
       "    <tr>\n",
       "        <td>Jazz</td>\n",
       "        <td>14</td>\n",
       "        <td>0.013320647002854425</td>\n",
       "    </tr>\n",
       "</table>"
      ],
      "text/plain": [
       "[('Rock', 561, 0.5337773549000951),\n",
       " ('Alternative & Punk', 130, 0.12369172216936251),\n",
       " ('Metal', 124, 0.11798287345385347),\n",
       " ('R&B/Soul', 53, 0.05042816365366318),\n",
       " ('Blues', 36, 0.03425309229305423),\n",
       " ('Alternative', 35, 0.03330161750713606),\n",
       " ('Latin', 22, 0.02093244529019981),\n",
       " ('Pop', 22, 0.02093244529019981),\n",
       " ('Hip Hop/Rap', 20, 0.019029495718363463),\n",
       " ('Jazz', 14, 0.013320647002854425)]"
      ]
     },
     "execution_count": 13,
     "metadata": {},
     "output_type": "execute_result"
    }
   ],
   "source": [
    "%%sql\n",
    "\n",
    "WITH usa_sales AS\n",
    "    (\n",
    "    SELECT il.* FROM invoice_line il\n",
    "    INNER JOIN invoice i ON il.invoice_id = i.invoice_id\n",
    "    INNER JOIN customer c ON i.customer_id = c.customer_id\n",
    "    WHERE c.country = \"USA\"\n",
    "    )\n",
    "SELECT\n",
    "    g.name genre,\n",
    "    COUNT(us.invoice_line_id) tracks_sold,\n",
    "    CAST(COUNT(us.invoice_line_id) AS FLOAT) / (\n",
    "        SELECT COUNT(*) from usa_sales) percentage_sold\n",
    "FROM usa_sales us\n",
    "INNER JOIN track t on t.track_id = us.track_id\n",
    "INNER JOIN genre g on g.genre_id = t.genre_id\n",
    "GROUP BY 1\n",
    "ORDER BY 2 DESC\n",
    "LIMIT 10;"
   ]
  },
  {
   "cell_type": "markdown",
   "metadata": {},
   "source": [
    "Based on the sales, the 3 albums we should recommend are: "
   ]
  },
  {
   "cell_type": "markdown",
   "metadata": {},
   "source": [
    "Red Tone / Punk (12%)\n",
    "\n",
    "Slim Jim Bites / Blues (3%)\n",
    "\n",
    "Meteor and the Girls / Pop (2%)"
   ]
  },
  {
   "cell_type": "code",
   "execution_count": null,
   "metadata": {
    "collapsed": true
   },
   "outputs": [],
   "source": []
  },
  {
   "cell_type": "markdown",
   "metadata": {},
   "source": [
    "There is a clear difference between 'Rock' and any other genre, with 53% and trending, current and upcoming rock albums should be looked at with major importance. "
   ]
  },
  {
   "cell_type": "code",
   "execution_count": null,
   "metadata": {
    "collapsed": true
   },
   "outputs": [],
   "source": []
  },
  {
   "cell_type": "markdown",
   "metadata": {},
   "source": [
    "**Write a query that finds the total dollar amount of sales assigned to each sales support agent within the company. Add any extra attributes for that employee that you think are relevant to the analysis.**\n",
    "\n",
    "**Write a short statement describing your results, and providing a possible interpretation.**"
   ]
  },
  {
   "cell_type": "code",
   "execution_count": 42,
   "metadata": {
    "collapsed": false,
    "scrolled": true
   },
   "outputs": [
    {
     "name": "stdout",
     "output_type": "stream",
     "text": [
      "Done.\n"
     ]
    },
    {
     "data": {
      "text/html": [
       "<table>\n",
       "    <tr>\n",
       "        <th>employee</th>\n",
       "        <th>total_sales</th>\n",
       "        <th>hire_date</th>\n",
       "    </tr>\n",
       "    <tr>\n",
       "        <td>Jane Peacock</td>\n",
       "        <td>1731.510000000004</td>\n",
       "        <td>2017-04-01 00:00:00</td>\n",
       "    </tr>\n",
       "    <tr>\n",
       "        <td>Margaret Park</td>\n",
       "        <td>1584.0000000000032</td>\n",
       "        <td>2017-05-03 00:00:00</td>\n",
       "    </tr>\n",
       "    <tr>\n",
       "        <td>Steve Johnson</td>\n",
       "        <td>1393.9200000000028</td>\n",
       "        <td>2017-10-17 00:00:00</td>\n",
       "    </tr>\n",
       "</table>"
      ],
      "text/plain": [
       "[('Jane Peacock', 1731.510000000004, '2017-04-01 00:00:00'),\n",
       " ('Margaret Park', 1584.0000000000032, '2017-05-03 00:00:00'),\n",
       " ('Steve Johnson', 1393.9200000000028, '2017-10-17 00:00:00')]"
      ]
     },
     "execution_count": 42,
     "metadata": {},
     "output_type": "execute_result"
    }
   ],
   "source": [
    "%%sql\n",
    "\n",
    "WITH employee_sales AS\n",
    "    (\n",
    "    SELECT \n",
    "        i.customer_id,\n",
    "        c.support_rep_id,\n",
    "        SUM(i.total) total\n",
    "    FROM invoice i\n",
    "    INNER JOIN customer c ON i.customer_id = c.customer_id\n",
    "    GROUP BY 2\n",
    "    )\n",
    "    \n",
    "SELECT\n",
    "    e.first_name || \" \" || e.last_name employee,\n",
    "    SUM(i.total) total_sales,\n",
    "    e.hire_date\n",
    "FROM employee_sales es\n",
    "INNER JOIN employee e ON e.employee_id = es.support_rep_id\n",
    "GROUP BY 1;"
   ]
  },
  {
   "cell_type": "code",
   "execution_count": 3,
   "metadata": {
    "collapsed": true
   },
   "outputs": [],
   "source": [
    "#Jane vs Steve"
   ]
  },
  {
   "cell_type": "code",
   "execution_count": 2,
   "metadata": {
    "collapsed": false
   },
   "outputs": [
    {
     "data": {
      "text/plain": [
       "0.8050314465408805"
      ]
     },
     "execution_count": 2,
     "metadata": {},
     "output_type": "execute_result"
    }
   ],
   "source": [
    "1393.92/1731.51"
   ]
  },
  {
   "cell_type": "markdown",
   "metadata": {},
   "source": [
    "Steve has sold around 20% less than Jane."
   ]
  },
  {
   "cell_type": "markdown",
   "metadata": {
    "collapsed": true
   },
   "source": [
    "The difference in sales per employee can be explained due to the fact that their hiring dates are completely different. As expected, Jane, who has been in the company the longest is the highest seller. On the other hand, Steve, who joined 6 months later has the lowest total sales, most likely due to the fact that he join much later."
   ]
  },
  {
   "cell_type": "markdown",
   "metadata": {},
   "source": [
    "As the employees started in completely different dates, it would be interesting to understand how the employees are performing in terms of revenue per customer."
   ]
  },
  {
   "cell_type": "code",
   "execution_count": 11,
   "metadata": {
    "collapsed": false
   },
   "outputs": [
    {
     "name": "stdout",
     "output_type": "stream",
     "text": [
      "Done.\n"
     ]
    },
    {
     "data": {
      "text/html": [
       "<table>\n",
       "    <tr>\n",
       "        <th>employee_name</th>\n",
       "        <th>total_sales</th>\n",
       "        <th>number_of_customer_assigned</th>\n",
       "        <th>avg_sales_per_customer</th>\n",
       "    </tr>\n",
       "    <tr>\n",
       "        <td>Jane Peacock</td>\n",
       "        <td>1731.5100000000039</td>\n",
       "        <td>21</td>\n",
       "        <td>82.45285714285733</td>\n",
       "    </tr>\n",
       "    <tr>\n",
       "        <td>Margaret Park</td>\n",
       "        <td>1584.0000000000034</td>\n",
       "        <td>20</td>\n",
       "        <td>79.20000000000017</td>\n",
       "    </tr>\n",
       "    <tr>\n",
       "        <td>Steve Johnson</td>\n",
       "        <td>1393.920000000002</td>\n",
       "        <td>18</td>\n",
       "        <td>77.44000000000011</td>\n",
       "    </tr>\n",
       "</table>"
      ],
      "text/plain": [
       "[('Jane Peacock', 1731.5100000000039, 21, 82.45285714285733),\n",
       " ('Margaret Park', 1584.0000000000034, 20, 79.20000000000017),\n",
       " ('Steve Johnson', 1393.920000000002, 18, 77.44000000000011)]"
      ]
     },
     "execution_count": 11,
     "metadata": {},
     "output_type": "execute_result"
    }
   ],
   "source": [
    "%%sql    \n",
    "    SELECT \n",
    "            e.first_name || ' ' || e.last_name employee_name,\n",
    "            SUM(i.total) total_sales,\n",
    "            count(distinct c.customer_id) number_of_customer_assigned,\n",
    "            SUM(i.total) / count(distinct c.customer_id) avg_sales_per_customer\n",
    "    FROM invoice i  \n",
    "         INNER JOIN customer c ON c.customer_id = i.customer_id\n",
    "         INNER JOIN employee e ON e.employee_id = c.support_rep_id\n",
    "    GROUP BY 1;"
   ]
  },
  {
   "cell_type": "markdown",
   "metadata": {
    "collapsed": false
   },
   "source": [
    "Although Steve was hired 6 months before Jane, we can see that they've dealt with almost the same amount of distinct customers. Due to the difference in total sales, this might mean that Jane was assigned the most valuable customers perhaps due to being more experienced, we can't be sure as we are not aware of the criteria on how customers are assigned to sales reps at Chinook."
   ]
  },
  {
   "cell_type": "markdown",
   "metadata": {},
   "source": [
    "**Write a query that collates data on purchases from different countries.\n",
    "Where a country has only one customer, collect them into an \"Other\" group.\n",
    "The results should sort by the total sales from highest to lowest, with the \"Other\" group at the very bottom.**\n",
    "\n",
    "**For each country, include the following:\n",
    "total number of customers\n",
    "total value of sales\n",
    "average value of sales per customer\n",
    "average order value**"
   ]
  },
  {
   "cell_type": "code",
   "execution_count": 4,
   "metadata": {
    "collapsed": false
   },
   "outputs": [
    {
     "name": "stdout",
     "output_type": "stream",
     "text": [
      "Done.\n"
     ]
    },
    {
     "data": {
      "text/plain": [
       "[]"
      ]
     },
     "execution_count": 4,
     "metadata": {},
     "output_type": "execute_result"
    }
   ],
   "source": [
    "%%sql\n",
    "\n",
    "CREATE VIEW all_countries AS\n",
    "     SELECT country,\n",
    "            CASE\n",
    "                WHEN COUNT(DISTINCT(c.customer_id)) = 1 THEN \"Other\"\n",
    "                ELSE country\n",
    "            END AS country_grp,            \n",
    "            COUNT(DISTINCT(c.customer_id)) AS number_of_customers,\n",
    "            COUNT(DISTINCT(i.invoice_id)) AS number_of_orders,\n",
    "            SUM(i.total) AS total_value_of_sales,\n",
    "            CASE\n",
    "                WHEN COUNT(DISTINCT(c.customer_id)) = 1 THEN 0\n",
    "                ELSE 1\n",
    "            END AS sort\n",
    "FROM customer AS c\n",
    "INNER JOIN invoice AS i ON c.customer_id = i.customer_id\n",
    "GROUP BY country;"
   ]
  },
  {
   "cell_type": "code",
   "execution_count": 5,
   "metadata": {
    "collapsed": false
   },
   "outputs": [
    {
     "name": "stdout",
     "output_type": "stream",
     "text": [
      "Done.\n"
     ]
    },
    {
     "data": {
      "text/html": [
       "<table>\n",
       "    <tr>\n",
       "        <th>country</th>\n",
       "        <th>country_grp</th>\n",
       "        <th>number_of_customers</th>\n",
       "        <th>number_of_orders</th>\n",
       "        <th>total_value_of_sales</th>\n",
       "        <th>sort</th>\n",
       "    </tr>\n",
       "    <tr>\n",
       "        <td>Argentina</td>\n",
       "        <td>Other</td>\n",
       "        <td>1</td>\n",
       "        <td>5</td>\n",
       "        <td>39.6</td>\n",
       "        <td>0</td>\n",
       "    </tr>\n",
       "    <tr>\n",
       "        <td>Australia</td>\n",
       "        <td>Other</td>\n",
       "        <td>1</td>\n",
       "        <td>10</td>\n",
       "        <td>81.18</td>\n",
       "        <td>0</td>\n",
       "    </tr>\n",
       "    <tr>\n",
       "        <td>Austria</td>\n",
       "        <td>Other</td>\n",
       "        <td>1</td>\n",
       "        <td>9</td>\n",
       "        <td>69.3</td>\n",
       "        <td>0</td>\n",
       "    </tr>\n",
       "    <tr>\n",
       "        <td>Belgium</td>\n",
       "        <td>Other</td>\n",
       "        <td>1</td>\n",
       "        <td>7</td>\n",
       "        <td>60.38999999999999</td>\n",
       "        <td>0</td>\n",
       "    </tr>\n",
       "    <tr>\n",
       "        <td>Brazil</td>\n",
       "        <td>Brazil</td>\n",
       "        <td>5</td>\n",
       "        <td>61</td>\n",
       "        <td>427.68000000000006</td>\n",
       "        <td>1</td>\n",
       "    </tr>\n",
       "    <tr>\n",
       "        <td>Canada</td>\n",
       "        <td>Canada</td>\n",
       "        <td>8</td>\n",
       "        <td>76</td>\n",
       "        <td>535.5900000000001</td>\n",
       "        <td>1</td>\n",
       "    </tr>\n",
       "    <tr>\n",
       "        <td>Chile</td>\n",
       "        <td>Other</td>\n",
       "        <td>1</td>\n",
       "        <td>13</td>\n",
       "        <td>97.02000000000001</td>\n",
       "        <td>0</td>\n",
       "    </tr>\n",
       "    <tr>\n",
       "        <td>Czech Republic</td>\n",
       "        <td>Czech Republic</td>\n",
       "        <td>2</td>\n",
       "        <td>30</td>\n",
       "        <td>273.24000000000007</td>\n",
       "        <td>1</td>\n",
       "    </tr>\n",
       "    <tr>\n",
       "        <td>Denmark</td>\n",
       "        <td>Other</td>\n",
       "        <td>1</td>\n",
       "        <td>10</td>\n",
       "        <td>37.61999999999999</td>\n",
       "        <td>0</td>\n",
       "    </tr>\n",
       "    <tr>\n",
       "        <td>Finland</td>\n",
       "        <td>Other</td>\n",
       "        <td>1</td>\n",
       "        <td>11</td>\n",
       "        <td>79.2</td>\n",
       "        <td>0</td>\n",
       "    </tr>\n",
       "</table>"
      ],
      "text/plain": [
       "[('Argentina', 'Other', 1, 5, 39.6, 0),\n",
       " ('Australia', 'Other', 1, 10, 81.18, 0),\n",
       " ('Austria', 'Other', 1, 9, 69.3, 0),\n",
       " ('Belgium', 'Other', 1, 7, 60.38999999999999, 0),\n",
       " ('Brazil', 'Brazil', 5, 61, 427.68000000000006, 1),\n",
       " ('Canada', 'Canada', 8, 76, 535.5900000000001, 1),\n",
       " ('Chile', 'Other', 1, 13, 97.02000000000001, 0),\n",
       " ('Czech Republic', 'Czech Republic', 2, 30, 273.24000000000007, 1),\n",
       " ('Denmark', 'Other', 1, 10, 37.61999999999999, 0),\n",
       " ('Finland', 'Other', 1, 11, 79.2, 0)]"
      ]
     },
     "execution_count": 5,
     "metadata": {},
     "output_type": "execute_result"
    }
   ],
   "source": [
    "%%sql\n",
    "\n",
    "SELECT * FROM all_countries LIMIT 10;"
   ]
  },
  {
   "cell_type": "code",
   "execution_count": 78,
   "metadata": {
    "collapsed": false
   },
   "outputs": [
    {
     "name": "stdout",
     "output_type": "stream",
     "text": [
      "Done.\n"
     ]
    },
    {
     "data": {
      "text/html": [
       "<table>\n",
       "    <tr>\n",
       "        <th>country</th>\n",
       "        <th>total_number_of_customers</th>\n",
       "        <th>total_value_of_sales</th>\n",
       "        <th>average_value_of_sales_per_customer</th>\n",
       "        <th>average_order_value</th>\n",
       "    </tr>\n",
       "    <tr>\n",
       "        <td>USA</td>\n",
       "        <td>13</td>\n",
       "        <td>1040.49</td>\n",
       "        <td>80.04</td>\n",
       "        <td>7.94</td>\n",
       "    </tr>\n",
       "    <tr>\n",
       "        <td>Canada</td>\n",
       "        <td>8</td>\n",
       "        <td>535.59</td>\n",
       "        <td>66.95</td>\n",
       "        <td>7.05</td>\n",
       "    </tr>\n",
       "    <tr>\n",
       "        <td>Brazil</td>\n",
       "        <td>5</td>\n",
       "        <td>427.68</td>\n",
       "        <td>85.54</td>\n",
       "        <td>7.01</td>\n",
       "    </tr>\n",
       "    <tr>\n",
       "        <td>France</td>\n",
       "        <td>5</td>\n",
       "        <td>389.07</td>\n",
       "        <td>77.81</td>\n",
       "        <td>7.78</td>\n",
       "    </tr>\n",
       "    <tr>\n",
       "        <td>Germany</td>\n",
       "        <td>4</td>\n",
       "        <td>334.62</td>\n",
       "        <td>83.66</td>\n",
       "        <td>8.16</td>\n",
       "    </tr>\n",
       "    <tr>\n",
       "        <td>Czech Republic</td>\n",
       "        <td>2</td>\n",
       "        <td>273.24</td>\n",
       "        <td>136.62</td>\n",
       "        <td>9.11</td>\n",
       "    </tr>\n",
       "    <tr>\n",
       "        <td>United Kingdom</td>\n",
       "        <td>3</td>\n",
       "        <td>245.52</td>\n",
       "        <td>81.84</td>\n",
       "        <td>8.77</td>\n",
       "    </tr>\n",
       "    <tr>\n",
       "        <td>Portugal</td>\n",
       "        <td>2</td>\n",
       "        <td>185.13</td>\n",
       "        <td>92.57</td>\n",
       "        <td>6.38</td>\n",
       "    </tr>\n",
       "    <tr>\n",
       "        <td>India</td>\n",
       "        <td>2</td>\n",
       "        <td>183.15</td>\n",
       "        <td>91.57</td>\n",
       "        <td>8.72</td>\n",
       "    </tr>\n",
       "    <tr>\n",
       "        <td>Other</td>\n",
       "        <td>15</td>\n",
       "        <td>1094.94</td>\n",
       "        <td>73.0</td>\n",
       "        <td>7.45</td>\n",
       "    </tr>\n",
       "</table>"
      ],
      "text/plain": [
       "[('USA', 13, 1040.49, 80.04, 7.94),\n",
       " ('Canada', 8, 535.59, 66.95, 7.05),\n",
       " ('Brazil', 5, 427.68, 85.54, 7.01),\n",
       " ('France', 5, 389.07, 77.81, 7.78),\n",
       " ('Germany', 4, 334.62, 83.66, 8.16),\n",
       " ('Czech Republic', 2, 273.24, 136.62, 9.11),\n",
       " ('United Kingdom', 3, 245.52, 81.84, 8.77),\n",
       " ('Portugal', 2, 185.13, 92.57, 6.38),\n",
       " ('India', 2, 183.15, 91.57, 8.72),\n",
       " ('Other', 15, 1094.94, 73.0, 7.45)]"
      ]
     },
     "execution_count": 78,
     "metadata": {},
     "output_type": "execute_result"
    }
   ],
   "source": [
    "%%sql\n",
    "\n",
    "SELECT  country_grp AS country,\n",
    "        SUM(number_of_customers) AS total_number_of_customers,\n",
    "        ROUND(SUM(total_value_of_sales), 2) AS total_value_of_sales,\n",
    "        ROUND((SUM(total_value_of_sales) / SUM(number_of_customers)), 2) AS average_value_of_sales_per_customer,\n",
    "        ROUND((SUM(total_value_of_sales) / SUM(number_of_orders)), 2) AS average_order_value        \n",
    "  FROM  all_countries\n",
    " GROUP  BY country_grp\n",
    " ORDER  BY sort DESC, total_value_of_sales DESC;"
   ]
  },
  {
   "cell_type": "markdown",
   "metadata": {
    "collapsed": true
   },
   "source": [
    "USA (1041), Canada (536) and Brazil (428) account for the top 3 in terms of total value of sales. \n",
    "\n",
    "The country with the highest average sales per customer is the Czech Republic (137) but with only 2 customers in total. From the top 3 countries in terms of total sales, Brazil has the highest average sale per customer with 86.\n",
    "\n",
    "It's also worthwhile mentioning USA is the top country in terms of total customers (13) and the Czech Republic has the highest average order value (9.11)."
   ]
  },
  {
   "cell_type": "code",
   "execution_count": null,
   "metadata": {
    "collapsed": true
   },
   "outputs": [],
   "source": []
  }
 ],
 "metadata": {
  "kernelspec": {
   "display_name": "Python 3",
   "language": "python",
   "name": "python3"
  },
  "language_info": {
   "codemirror_mode": {
    "name": "ipython",
    "version": 3
   },
   "file_extension": ".py",
   "mimetype": "text/x-python",
   "name": "python",
   "nbconvert_exporter": "python",
   "pygments_lexer": "ipython3",
   "version": "3.4.3"
  }
 },
 "nbformat": 4,
 "nbformat_minor": 2
}
